{
 "cells": [
  {
   "cell_type": "markdown",
   "metadata": {},
   "source": [
    "##### Create the below pattern using nested for loop in Python. "
   ]
  },
  {
   "cell_type": "code",
   "execution_count": 12,
   "metadata": {},
   "outputs": [
    {
     "name": "stdout",
     "output_type": "stream",
     "text": [
      "8\n",
      "*                 \n",
      "* *               \n",
      "* * *             \n",
      "* * * *           \n",
      "* * * * *         \n",
      "* * * *       \n",
      "* * *     \n",
      "* *   \n",
      "* \n"
     ]
    }
   ],
   "source": [
    "n=int(input())\n",
    "for i in range(0,n+1):\n",
    "    for j in range(n,-1,-1):\n",
    "        if (i+j>=n) :\n",
    "            if(i==j) | (j>i):\n",
    "                print(\"*\",end= \" \")\n",
    "            elif(i+j<n):\n",
    "                print(\" \",end=\" \")\n",
    "        else :\n",
    "            print(\" \",end = \" \")\n",
    "    print(\"\")"
   ]
  },
  {
   "cell_type": "markdown",
   "metadata": {},
   "source": [
    "##### Write a Python program to reverse a word after accepting the input from the user."
   ]
  },
  {
   "cell_type": "code",
   "execution_count": 16,
   "metadata": {},
   "outputs": [
    {
     "name": "stdout",
     "output_type": "stream",
     "text": [
      "subhro\n",
      "orhbus\n"
     ]
    }
   ],
   "source": [
    "n=input()\n",
    "def reverse(n):\n",
    "    str=n[::-1]\n",
    "    return(str)\n",
    "print(reverse(n))"
   ]
  },
  {
   "cell_type": "code",
   "execution_count": null,
   "metadata": {},
   "outputs": [],
   "source": []
  }
 ],
 "metadata": {
  "kernelspec": {
   "display_name": "Python 3",
   "language": "python",
   "name": "python3"
  },
  "language_info": {
   "codemirror_mode": {
    "name": "ipython",
    "version": 3
   },
   "file_extension": ".py",
   "mimetype": "text/x-python",
   "name": "python",
   "nbconvert_exporter": "python",
   "pygments_lexer": "ipython3",
   "version": "3.7.6"
  }
 },
 "nbformat": 4,
 "nbformat_minor": 4
}
